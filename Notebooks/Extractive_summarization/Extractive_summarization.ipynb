{
  "nbformat": 4,
  "nbformat_minor": 0,
  "metadata": {
    "colab": {
      "name": "Extractive summarization.ipynb",
      "provenance": [],
      "collapsed_sections": [],
      "mount_file_id": "18csyd8jjtS5Cg4YPrdEgCpfcXJxib0us",
      "authorship_tag": "ABX9TyMTcXQhH1n6UN2zC7lNnoYl",
      "include_colab_link": true
    },
    "kernelspec": {
      "name": "python3",
      "display_name": "Python 3"
    },
    "language_info": {
      "name": "python"
    }
  },
  "cells": [
    {
      "cell_type": "markdown",
      "metadata": {
        "id": "view-in-github",
        "colab_type": "text"
      },
      "source": [
        "<a href=\"https://colab.research.google.com/github/Lukebotbol/MSc_Thesis_Abstractive_Summarization/blob/main/Extractive_summarization.ipynb\" target=\"_parent\"><img src=\"https://colab.research.google.com/assets/colab-badge.svg\" alt=\"Open In Colab\"/></a>"
      ]
    },
    {
      "cell_type": "code",
      "metadata": {
        "colab": {
          "base_uri": "https://localhost:8080/"
        },
        "id": "7MGFhpk2TVJo",
        "outputId": "6833f202-431d-4d3e-91f0-103ba7acdf45"
      },
      "source": [
        "!pip install sumy\n",
        "!pip install rouge"
      ],
      "execution_count": null,
      "outputs": [
        {
          "output_type": "stream",
          "text": [
            "Collecting sumy\n",
            "  Downloading sumy-0.8.1-py2.py3-none-any.whl (83 kB)\n",
            "\u001b[?25l\r\u001b[K     |████                            | 10 kB 25.8 MB/s eta 0:00:01\r\u001b[K     |███████▉                        | 20 kB 25.0 MB/s eta 0:00:01\r\u001b[K     |███████████▊                    | 30 kB 12.4 MB/s eta 0:00:01\r\u001b[K     |███████████████▋                | 40 kB 9.4 MB/s eta 0:00:01\r\u001b[K     |███████████████████▌            | 51 kB 5.3 MB/s eta 0:00:01\r\u001b[K     |███████████████████████▍        | 61 kB 5.8 MB/s eta 0:00:01\r\u001b[K     |███████████████████████████▍    | 71 kB 6.1 MB/s eta 0:00:01\r\u001b[K     |███████████████████████████████▎| 81 kB 6.3 MB/s eta 0:00:01\r\u001b[K     |████████████████████████████████| 83 kB 1.7 MB/s \n",
            "\u001b[?25hRequirement already satisfied: nltk>=3.0.2 in /usr/local/lib/python3.7/dist-packages (from sumy) (3.2.5)\n",
            "Collecting breadability>=0.1.20\n",
            "  Downloading breadability-0.1.20.tar.gz (32 kB)\n",
            "Requirement already satisfied: requests>=2.7.0 in /usr/local/lib/python3.7/dist-packages (from sumy) (2.23.0)\n",
            "Requirement already satisfied: docopt<0.7,>=0.6.1 in /usr/local/lib/python3.7/dist-packages (from sumy) (0.6.2)\n",
            "Collecting pycountry>=18.2.23\n",
            "  Downloading pycountry-20.7.3.tar.gz (10.1 MB)\n",
            "\u001b[K     |████████████████████████████████| 10.1 MB 29.8 MB/s \n",
            "\u001b[?25hRequirement already satisfied: chardet in /usr/local/lib/python3.7/dist-packages (from breadability>=0.1.20->sumy) (3.0.4)\n",
            "Requirement already satisfied: lxml>=2.0 in /usr/local/lib/python3.7/dist-packages (from breadability>=0.1.20->sumy) (4.2.6)\n",
            "Requirement already satisfied: six in /usr/local/lib/python3.7/dist-packages (from nltk>=3.0.2->sumy) (1.15.0)\n",
            "Requirement already satisfied: idna<3,>=2.5 in /usr/local/lib/python3.7/dist-packages (from requests>=2.7.0->sumy) (2.10)\n",
            "Requirement already satisfied: urllib3!=1.25.0,!=1.25.1,<1.26,>=1.21.1 in /usr/local/lib/python3.7/dist-packages (from requests>=2.7.0->sumy) (1.24.3)\n",
            "Requirement already satisfied: certifi>=2017.4.17 in /usr/local/lib/python3.7/dist-packages (from requests>=2.7.0->sumy) (2021.5.30)\n",
            "Building wheels for collected packages: breadability, pycountry\n",
            "  Building wheel for breadability (setup.py) ... \u001b[?25l\u001b[?25hdone\n",
            "  Created wheel for breadability: filename=breadability-0.1.20-py2.py3-none-any.whl size=21711 sha256=9a53228573d04d7e46ab09934c3eebc0c465ebdffd745701a34d26b3fd83c3e2\n",
            "  Stored in directory: /root/.cache/pip/wheels/d4/bf/51/81d27ad638e1a6dca4f362ecc33d1e2c764b8ea7ec751b8fc1\n",
            "  Building wheel for pycountry (setup.py) ... \u001b[?25l\u001b[?25hdone\n",
            "  Created wheel for pycountry: filename=pycountry-20.7.3-py2.py3-none-any.whl size=10746883 sha256=5330f71a54e3cce0acad916389ea0cb6d645a5a16c86e31fceb4b4f6b22ab587\n",
            "  Stored in directory: /root/.cache/pip/wheels/57/e8/3f/120ccc1ff7541c108bc5d656e2a14c39da0d824653b62284c6\n",
            "Successfully built breadability pycountry\n",
            "Installing collected packages: pycountry, breadability, sumy\n",
            "Successfully installed breadability-0.1.20 pycountry-20.7.3 sumy-0.8.1\n",
            "Collecting rouge\n",
            "  Downloading rouge-1.0.1-py3-none-any.whl (13 kB)\n",
            "Requirement already satisfied: six in /usr/local/lib/python3.7/dist-packages (from rouge) (1.15.0)\n",
            "Installing collected packages: rouge\n",
            "Successfully installed rouge-1.0.1\n"
          ],
          "name": "stdout"
        }
      ]
    },
    {
      "cell_type": "code",
      "metadata": {
        "colab": {
          "base_uri": "https://localhost:8080/"
        },
        "id": "_l7Z1pTxXLa_",
        "outputId": "59ba5ee8-5750-4ba5-b270-4500998d4c95"
      },
      "source": [
        "from sumy.parsers.plaintext import PlaintextParser\n",
        "from sumy.nlp.tokenizers import Tokenizer\n",
        "from sumy.summarizers.lex_rank import LexRankSummarizer\n",
        "from sumy.summarizers.text_rank import TextRankSummarizer\n",
        "from sumy.summarizers.kl import KLSummarizer\n",
        "from sumy.summarizers.luhn import LuhnSummarizer\n",
        "from sumy.summarizers.lsa import LsaSummarizer\n",
        "from sumy.summarizers.sum_basic import SumBasicSummarizer\n",
        "from sumy.summarizers.kl import KLSummarizer\n",
        "from sumy.nlp.stemmers import Stemmer\n",
        "from sumy.utils import get_stop_words\n",
        "from rouge import Rouge\n",
        "import pandas as pd\n",
        "import numpy as np\n",
        "import nltk\n",
        "nltk.download('punkt')"
      ],
      "execution_count": null,
      "outputs": [
        {
          "output_type": "stream",
          "text": [
            "[nltk_data] Downloading package punkt to /root/nltk_data...\n",
            "[nltk_data]   Unzipping tokenizers/punkt.zip.\n"
          ],
          "name": "stdout"
        },
        {
          "output_type": "execute_result",
          "data": {
            "text/plain": [
              "True"
            ]
          },
          "metadata": {
            "tags": []
          },
          "execution_count": 2
        }
      ]
    },
    {
      "cell_type": "code",
      "metadata": {
        "id": "m2B21ZjxXkIy"
      },
      "source": [
        "df = pd.read_csv('/content/drive/MyDrive/Colab Notebooks/dataset(1).csv')"
      ],
      "execution_count": null,
      "outputs": []
    },
    {
      "cell_type": "markdown",
      "metadata": {
        "id": "tJL69dLGz4xz"
      },
      "source": [
        "# TextRank & KL Sum"
      ]
    },
    {
      "cell_type": "code",
      "metadata": {
        "id": "NbgDVA_3aoEf"
      },
      "source": [
        "documents = df['original_text']"
      ],
      "execution_count": null,
      "outputs": []
    },
    {
      "cell_type": "code",
      "metadata": {
        "id": "g2ma6NWgji8v"
      },
      "source": [
        "def get_summaries(SumAlgo, documents):\n",
        "  sum = []\n",
        "  for i in range(len(documents)):\n",
        "    parser = PlaintextParser.from_string(documents[i], Tokenizer(\"english\"))\n",
        "    summarizer = SumAlgo\n",
        "    summarizer.stop_words = get_stop_words(\"english\")\n",
        "    summary = summarizer(parser.document, 1)\n",
        "    sents = \" \".join([str(sentence) for sentence in summary])\n",
        "    sum.append(sents)\n",
        "  return sum"
      ],
      "execution_count": null,
      "outputs": []
    },
    {
      "cell_type": "code",
      "metadata": {
        "id": "hc8K2OfglgLc"
      },
      "source": [
        "#Generate summaries from different algo\n",
        "stemmer = Stemmer(\"english\")\n",
        "\n",
        "summaries = {}\n",
        "summaries['original_text'] = df['original_text']\n",
        "summaries['reference_summary'] = df['reference_summary']\n",
        "summaries['TextRank'] = get_summaries(TextRankSummarizer(stemmer), documents)\n",
        "#summaries['LexRank'] = get_summaries(LexRankSummarizer(stemmer), documents)\n",
        "summaries['KLSum'] = get_summaries(KLSummarizer(stemmer), documents)\n",
        "summaries['Luhn_Sum'] = get_summaries(LuhnSummarizer(stemmer), documents)\n",
        "summaries['SumBasic'] = get_summaries(SumBasicSummarizer(stemmer), documents)\n",
        "summaries['LSA_Sum'] = get_summaries(LsaSummarizer(stemmer), documents)"
      ],
      "execution_count": null,
      "outputs": []
    },
    {
      "cell_type": "code",
      "metadata": {
        "id": "qaDf2UbcszjR"
      },
      "source": [
        "Summaries_df = pd.DataFrame(summaries)"
      ],
      "execution_count": null,
      "outputs": []
    },
    {
      "cell_type": "code",
      "metadata": {
        "id": "pdequZ2Us5Dy"
      },
      "source": [
        "Summaries_df[151:154].to_csv('/content/drive/MyDrive/Colab Notebooks/summaries_unsup.csv')"
      ],
      "execution_count": null,
      "outputs": []
    },
    {
      "cell_type": "code",
      "metadata": {
        "colab": {
          "base_uri": "https://localhost:8080/",
          "height": 247
        },
        "id": "XKruHSsdTG_9",
        "outputId": "1cf7bd47-024c-4376-d003-a291c63ddc3f"
      },
      "source": [
        "Summaries_df[151:154]"
      ],
      "execution_count": null,
      "outputs": [
        {
          "output_type": "execute_result",
          "data": {
            "text/html": [
              "<div>\n",
              "<style scoped>\n",
              "    .dataframe tbody tr th:only-of-type {\n",
              "        vertical-align: middle;\n",
              "    }\n",
              "\n",
              "    .dataframe tbody tr th {\n",
              "        vertical-align: top;\n",
              "    }\n",
              "\n",
              "    .dataframe thead th {\n",
              "        text-align: right;\n",
              "    }\n",
              "</style>\n",
              "<table border=\"1\" class=\"dataframe\">\n",
              "  <thead>\n",
              "    <tr style=\"text-align: right;\">\n",
              "      <th></th>\n",
              "      <th>original_text</th>\n",
              "      <th>reference_summary</th>\n",
              "      <th>TextRank</th>\n",
              "      <th>KLSum</th>\n",
              "      <th>Luhn_Sum</th>\n",
              "      <th>SumBasic</th>\n",
              "      <th>LSA_Sum</th>\n",
              "    </tr>\n",
              "  </thead>\n",
              "  <tbody>\n",
              "    <tr>\n",
              "      <th>151</th>\n",
              "      <td>you also agree to register one account only fo...</td>\n",
              "      <td>service does not allow alternative accounts.</td>\n",
              "      <td>the site administrators reserve the right to b...</td>\n",
              "      <td>the site administrators reserve the right to b...</td>\n",
              "      <td>you also agree to register one account only fo...</td>\n",
              "      <td>you also agree to register one account only fo...</td>\n",
              "      <td>the information we obtain through your use of ...</td>\n",
              "    </tr>\n",
              "    <tr>\n",
              "      <th>152</th>\n",
              "      <td>offer you targeted advertising in order to per...</td>\n",
              "      <td>the service uses your personal data for advert...</td>\n",
              "      <td>offer you targeted advertising in order to per...</td>\n",
              "      <td>offer you targeted advertising in order to per...</td>\n",
              "      <td>offer you targeted advertising in order to per...</td>\n",
              "      <td>offer you targeted advertising in order to per...</td>\n",
              "      <td>offer you targeted advertising in order to per...</td>\n",
              "    </tr>\n",
              "    <tr>\n",
              "      <th>153</th>\n",
              "      <td>researchgate strives to connect the world of s...</td>\n",
              "      <td>pseudonym not allowed user to user trust is re...</td>\n",
              "      <td>it is essential for the credibility of the wor...</td>\n",
              "      <td>you may not accept adopt or post content that ...</td>\n",
              "      <td>it is essential for the credibility of the wor...</td>\n",
              "      <td>this again is essential for the credibility of...</td>\n",
              "      <td>you may not accept adopt or post content that ...</td>\n",
              "    </tr>\n",
              "  </tbody>\n",
              "</table>\n",
              "</div>"
            ],
            "text/plain": [
              "                                         original_text  ...                                            LSA_Sum\n",
              "151  you also agree to register one account only fo...  ...  the information we obtain through your use of ...\n",
              "152  offer you targeted advertising in order to per...  ...  offer you targeted advertising in order to per...\n",
              "153  researchgate strives to connect the world of s...  ...  you may not accept adopt or post content that ...\n",
              "\n",
              "[3 rows x 7 columns]"
            ]
          },
          "metadata": {
            "tags": []
          },
          "execution_count": 48
        }
      ]
    },
    {
      "cell_type": "code",
      "metadata": {
        "id": "mdKaXF40tcak"
      },
      "source": [
        "rouge = Rouge()\n",
        "scores_TR = rouge.get_scores(Summaries_df.TextRank, Summaries_df.reference_summary, avg=True)\n",
        "scores_KL = rouge.get_scores(Summaries_df.KLSum, Summaries_df.reference_summary, avg=True)\n"
      ],
      "execution_count": null,
      "outputs": []
    },
    {
      "cell_type": "code",
      "metadata": {
        "colab": {
          "base_uri": "https://localhost:8080/"
        },
        "id": "ExaBffuUufb6",
        "outputId": "baf80837-f11b-4bb0-c9db-edc7b5231a7f"
      },
      "source": [
        "scores_TR['rouge-1']['f']"
      ],
      "execution_count": null,
      "outputs": [
        {
          "output_type": "execute_result",
          "data": {
            "text/plain": [
              "0.24646116166986476"
            ]
          },
          "metadata": {
            "tags": []
          },
          "execution_count": 42
        }
      ]
    },
    {
      "cell_type": "code",
      "metadata": {
        "id": "4ViE5mBYD-vY"
      },
      "source": [
        "scores = {}\n",
        "for i in Summaries_df.columns:\n",
        "  if i != 'original_text' and i!= 'reference_summary':\n",
        "    score = rouge.get_scores(Summaries_df[i], Summaries_df.reference_summary, avg=True)\n",
        "    f1= []\n",
        "    for z in score.keys():\n",
        "      f1.append(score[z]['f'] * 100)\n",
        "    scores[i] = f1"
      ],
      "execution_count": null,
      "outputs": []
    },
    {
      "cell_type": "code",
      "metadata": {
        "id": "Wa2L5M0eGcWK"
      },
      "source": [
        "scores_df = pd.DataFrame(data = scores.values(), index=scores.keys(), columns=['Rouge-1', 'Rouge-2', 'Rouge-l'])"
      ],
      "execution_count": null,
      "outputs": []
    },
    {
      "cell_type": "code",
      "metadata": {
        "colab": {
          "base_uri": "https://localhost:8080/",
          "height": 206
        },
        "id": "1Vz9KjKXH12z",
        "outputId": "b7343aaf-cfdb-4adb-ade0-dae264f21d44"
      },
      "source": [
        "scores_df"
      ],
      "execution_count": null,
      "outputs": [
        {
          "output_type": "execute_result",
          "data": {
            "text/html": [
              "<div>\n",
              "<style scoped>\n",
              "    .dataframe tbody tr th:only-of-type {\n",
              "        vertical-align: middle;\n",
              "    }\n",
              "\n",
              "    .dataframe tbody tr th {\n",
              "        vertical-align: top;\n",
              "    }\n",
              "\n",
              "    .dataframe thead th {\n",
              "        text-align: right;\n",
              "    }\n",
              "</style>\n",
              "<table border=\"1\" class=\"dataframe\">\n",
              "  <thead>\n",
              "    <tr style=\"text-align: right;\">\n",
              "      <th></th>\n",
              "      <th>Rouge-1</th>\n",
              "      <th>Rouge-2</th>\n",
              "      <th>Rouge-l</th>\n",
              "    </tr>\n",
              "  </thead>\n",
              "  <tbody>\n",
              "    <tr>\n",
              "      <th>TextRank</th>\n",
              "      <td>24.646116</td>\n",
              "      <td>7.805802</td>\n",
              "      <td>20.615177</td>\n",
              "    </tr>\n",
              "    <tr>\n",
              "      <th>KLSum</th>\n",
              "      <td>23.547594</td>\n",
              "      <td>6.810273</td>\n",
              "      <td>19.799045</td>\n",
              "    </tr>\n",
              "    <tr>\n",
              "      <th>Luhn_Sum</th>\n",
              "      <td>23.979510</td>\n",
              "      <td>7.488704</td>\n",
              "      <td>20.243000</td>\n",
              "    </tr>\n",
              "    <tr>\n",
              "      <th>SumBasic</th>\n",
              "      <td>23.666323</td>\n",
              "      <td>7.122913</td>\n",
              "      <td>20.109419</td>\n",
              "    </tr>\n",
              "    <tr>\n",
              "      <th>LSA_Sum</th>\n",
              "      <td>23.765487</td>\n",
              "      <td>7.501224</td>\n",
              "      <td>20.130580</td>\n",
              "    </tr>\n",
              "  </tbody>\n",
              "</table>\n",
              "</div>"
            ],
            "text/plain": [
              "            Rouge-1   Rouge-2    Rouge-l\n",
              "TextRank  24.646116  7.805802  20.615177\n",
              "KLSum     23.547594  6.810273  19.799045\n",
              "Luhn_Sum  23.979510  7.488704  20.243000\n",
              "SumBasic  23.666323  7.122913  20.109419\n",
              "LSA_Sum   23.765487  7.501224  20.130580"
            ]
          },
          "metadata": {
            "tags": []
          },
          "execution_count": 45
        }
      ]
    },
    {
      "cell_type": "code",
      "metadata": {
        "id": "5q0H_ll8tvBn"
      },
      "source": [
        ""
      ],
      "execution_count": null,
      "outputs": []
    }
  ]
}